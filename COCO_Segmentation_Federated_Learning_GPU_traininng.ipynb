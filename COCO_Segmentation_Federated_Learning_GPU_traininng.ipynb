{
  "nbformat": 4,
  "nbformat_minor": 0,
  "metadata": {
    "accelerator": "GPU",
    "colab": {
      "name": "COCO Segmentation Federated Learning_GPU_traininng.ipynb",
      "provenance": [],
      "collapsed_sections": [
        "GzUS-nKOqLju",
        "S65AsjrKtDIQ",
        "KRPDhnNgqLjx",
        "D1S1JwbiehpN",
        "WD49ZARYc_yt"
      ]
    },
    "kernelspec": {
      "display_name": "Python 3",
      "name": "python3"
    },
    "widgets": {
      "application/vnd.jupyter.widget-state+json": {
        "1112e0fab8774061a5285394395fab4f": {
          "model_module": "@jupyter-widgets/controls",
          "model_name": "HBoxModel",
          "state": {
            "_dom_classes": [],
            "_model_module": "@jupyter-widgets/controls",
            "_model_module_version": "1.5.0",
            "_model_name": "HBoxModel",
            "_view_count": null,
            "_view_module": "@jupyter-widgets/controls",
            "_view_module_version": "1.5.0",
            "_view_name": "HBoxView",
            "box_style": "",
            "children": [
              "IPY_MODEL_a5512fe63c1d48088acdf379b1acb6fd",
              "IPY_MODEL_954ef03e3add4202acea560da18b486c"
            ],
            "layout": "IPY_MODEL_8f7999c9143a4897bbfe607522e7d10b"
          }
        },
        "a5512fe63c1d48088acdf379b1acb6fd": {
          "model_module": "@jupyter-widgets/controls",
          "model_name": "FloatProgressModel",
          "state": {
            "_dom_classes": [],
            "_model_module": "@jupyter-widgets/controls",
            "_model_module_version": "1.5.0",
            "_model_name": "FloatProgressModel",
            "_view_count": null,
            "_view_module": "@jupyter-widgets/controls",
            "_view_module_version": "1.5.0",
            "_view_name": "ProgressView",
            "bar_style": "success",
            "description": "100%",
            "description_tooltip": null,
            "layout": "IPY_MODEL_38422092cf59470f81f771654bd8359a",
            "max": 102502400,
            "min": 0,
            "orientation": "horizontal",
            "style": "IPY_MODEL_acbf60c8b08d4b07b8b5675846b06872",
            "value": 102502400
          }
        },
        "954ef03e3add4202acea560da18b486c": {
          "model_module": "@jupyter-widgets/controls",
          "model_name": "HTMLModel",
          "state": {
            "_dom_classes": [],
            "_model_module": "@jupyter-widgets/controls",
            "_model_module_version": "1.5.0",
            "_model_name": "HTMLModel",
            "_view_count": null,
            "_view_module": "@jupyter-widgets/controls",
            "_view_module_version": "1.5.0",
            "_view_name": "HTMLView",
            "description": "",
            "description_tooltip": null,
            "layout": "IPY_MODEL_29f440e5e1d14233a803062509e265f0",
            "placeholder": "​",
            "style": "IPY_MODEL_7df98655133449b6a1cf1a4d0eca75d3",
            "value": " 97.8M/97.8M [00:04&lt;00:00, 24.6MB/s]"
          }
        },
        "8f7999c9143a4897bbfe607522e7d10b": {
          "model_module": "@jupyter-widgets/base",
          "model_name": "LayoutModel",
          "state": {
            "_model_module": "@jupyter-widgets/base",
            "_model_module_version": "1.2.0",
            "_model_name": "LayoutModel",
            "_view_count": null,
            "_view_module": "@jupyter-widgets/base",
            "_view_module_version": "1.2.0",
            "_view_name": "LayoutView",
            "align_content": null,
            "align_items": null,
            "align_self": null,
            "border": null,
            "bottom": null,
            "display": null,
            "flex": null,
            "flex_flow": null,
            "grid_area": null,
            "grid_auto_columns": null,
            "grid_auto_flow": null,
            "grid_auto_rows": null,
            "grid_column": null,
            "grid_gap": null,
            "grid_row": null,
            "grid_template_areas": null,
            "grid_template_columns": null,
            "grid_template_rows": null,
            "height": null,
            "justify_content": null,
            "justify_items": null,
            "left": null,
            "margin": null,
            "max_height": null,
            "max_width": null,
            "min_height": null,
            "min_width": null,
            "object_fit": null,
            "object_position": null,
            "order": null,
            "overflow": null,
            "overflow_x": null,
            "overflow_y": null,
            "padding": null,
            "right": null,
            "top": null,
            "visibility": null,
            "width": null
          }
        },
        "38422092cf59470f81f771654bd8359a": {
          "model_module": "@jupyter-widgets/base",
          "model_name": "LayoutModel",
          "state": {
            "_model_module": "@jupyter-widgets/base",
            "_model_module_version": "1.2.0",
            "_model_name": "LayoutModel",
            "_view_count": null,
            "_view_module": "@jupyter-widgets/base",
            "_view_module_version": "1.2.0",
            "_view_name": "LayoutView",
            "align_content": null,
            "align_items": null,
            "align_self": null,
            "border": null,
            "bottom": null,
            "display": null,
            "flex": null,
            "flex_flow": null,
            "grid_area": null,
            "grid_auto_columns": null,
            "grid_auto_flow": null,
            "grid_auto_rows": null,
            "grid_column": null,
            "grid_gap": null,
            "grid_row": null,
            "grid_template_areas": null,
            "grid_template_columns": null,
            "grid_template_rows": null,
            "height": null,
            "justify_content": null,
            "justify_items": null,
            "left": null,
            "margin": null,
            "max_height": null,
            "max_width": null,
            "min_height": null,
            "min_width": null,
            "object_fit": null,
            "object_position": null,
            "order": null,
            "overflow": null,
            "overflow_x": null,
            "overflow_y": null,
            "padding": null,
            "right": null,
            "top": null,
            "visibility": null,
            "width": null
          }
        },
        "acbf60c8b08d4b07b8b5675846b06872": {
          "model_module": "@jupyter-widgets/controls",
          "model_name": "ProgressStyleModel",
          "state": {
            "_model_module": "@jupyter-widgets/controls",
            "_model_module_version": "1.5.0",
            "_model_name": "ProgressStyleModel",
            "_view_count": null,
            "_view_module": "@jupyter-widgets/base",
            "_view_module_version": "1.2.0",
            "_view_name": "StyleView",
            "bar_color": null,
            "description_width": "initial"
          }
        },
        "29f440e5e1d14233a803062509e265f0": {
          "model_module": "@jupyter-widgets/base",
          "model_name": "LayoutModel",
          "state": {
            "_model_module": "@jupyter-widgets/base",
            "_model_module_version": "1.2.0",
            "_model_name": "LayoutModel",
            "_view_count": null,
            "_view_module": "@jupyter-widgets/base",
            "_view_module_version": "1.2.0",
            "_view_name": "LayoutView",
            "align_content": null,
            "align_items": null,
            "align_self": null,
            "border": null,
            "bottom": null,
            "display": null,
            "flex": null,
            "flex_flow": null,
            "grid_area": null,
            "grid_auto_columns": null,
            "grid_auto_flow": null,
            "grid_auto_rows": null,
            "grid_column": null,
            "grid_gap": null,
            "grid_row": null,
            "grid_template_areas": null,
            "grid_template_columns": null,
            "grid_template_rows": null,
            "height": null,
            "justify_content": null,
            "justify_items": null,
            "left": null,
            "margin": null,
            "max_height": null,
            "max_width": null,
            "min_height": null,
            "min_width": null,
            "object_fit": null,
            "object_position": null,
            "order": null,
            "overflow": null,
            "overflow_x": null,
            "overflow_y": null,
            "padding": null,
            "right": null,
            "top": null,
            "visibility": null,
            "width": null
          }
        },
        "7df98655133449b6a1cf1a4d0eca75d3": {
          "model_module": "@jupyter-widgets/controls",
          "model_name": "DescriptionStyleModel",
          "state": {
            "_model_module": "@jupyter-widgets/controls",
            "_model_module_version": "1.5.0",
            "_model_name": "DescriptionStyleModel",
            "_view_count": null,
            "_view_module": "@jupyter-widgets/base",
            "_view_module_version": "1.2.0",
            "_view_name": "StyleView",
            "description_width": ""
          }
        },
        "81fe3a8eb81845f2a5ace1808721296f": {
          "model_module": "@jupyter-widgets/controls",
          "model_name": "HBoxModel",
          "state": {
            "_dom_classes": [],
            "_model_module": "@jupyter-widgets/controls",
            "_model_module_version": "1.5.0",
            "_model_name": "HBoxModel",
            "_view_count": null,
            "_view_module": "@jupyter-widgets/controls",
            "_view_module_version": "1.5.0",
            "_view_name": "HBoxView",
            "box_style": "",
            "children": [
              "IPY_MODEL_581d987c214c4f0ca9abc7ab74a3270c",
              "IPY_MODEL_e08c9ecab95344e6870cbcfcd8f1081f"
            ],
            "layout": "IPY_MODEL_7bfdd896f8ba432f988ce0a9e5a6e06c"
          }
        },
        "581d987c214c4f0ca9abc7ab74a3270c": {
          "model_module": "@jupyter-widgets/controls",
          "model_name": "FloatProgressModel",
          "state": {
            "_dom_classes": [],
            "_model_module": "@jupyter-widgets/controls",
            "_model_module_version": "1.5.0",
            "_model_name": "FloatProgressModel",
            "_view_count": null,
            "_view_module": "@jupyter-widgets/controls",
            "_view_module_version": "1.5.0",
            "_view_name": "ProgressView",
            "bar_style": "success",
            "description": "100%",
            "description_tooltip": null,
            "layout": "IPY_MODEL_3b4b5734afc54c78b4c8d39cc14b094a",
            "max": 141567418,
            "min": 0,
            "orientation": "horizontal",
            "style": "IPY_MODEL_6e1591ac7fe942879c242069deddb7f5",
            "value": 141567418
          }
        },
        "e08c9ecab95344e6870cbcfcd8f1081f": {
          "model_module": "@jupyter-widgets/controls",
          "model_name": "HTMLModel",
          "state": {
            "_dom_classes": [],
            "_model_module": "@jupyter-widgets/controls",
            "_model_module_version": "1.5.0",
            "_model_name": "HTMLModel",
            "_view_count": null,
            "_view_module": "@jupyter-widgets/controls",
            "_view_module_version": "1.5.0",
            "_view_name": "HTMLView",
            "description": "",
            "description_tooltip": null,
            "layout": "IPY_MODEL_d2f8bfd8b8004526ae119ee085f05ba1",
            "placeholder": "​",
            "style": "IPY_MODEL_b88182c2f36041fa8c3f5c098338661b",
            "value": " 135M/135M [00:02&lt;00:00, 50.6MB/s]"
          }
        },
        "7bfdd896f8ba432f988ce0a9e5a6e06c": {
          "model_module": "@jupyter-widgets/base",
          "model_name": "LayoutModel",
          "state": {
            "_model_module": "@jupyter-widgets/base",
            "_model_module_version": "1.2.0",
            "_model_name": "LayoutModel",
            "_view_count": null,
            "_view_module": "@jupyter-widgets/base",
            "_view_module_version": "1.2.0",
            "_view_name": "LayoutView",
            "align_content": null,
            "align_items": null,
            "align_self": null,
            "border": null,
            "bottom": null,
            "display": null,
            "flex": null,
            "flex_flow": null,
            "grid_area": null,
            "grid_auto_columns": null,
            "grid_auto_flow": null,
            "grid_auto_rows": null,
            "grid_column": null,
            "grid_gap": null,
            "grid_row": null,
            "grid_template_areas": null,
            "grid_template_columns": null,
            "grid_template_rows": null,
            "height": null,
            "justify_content": null,
            "justify_items": null,
            "left": null,
            "margin": null,
            "max_height": null,
            "max_width": null,
            "min_height": null,
            "min_width": null,
            "object_fit": null,
            "object_position": null,
            "order": null,
            "overflow": null,
            "overflow_x": null,
            "overflow_y": null,
            "padding": null,
            "right": null,
            "top": null,
            "visibility": null,
            "width": null
          }
        },
        "3b4b5734afc54c78b4c8d39cc14b094a": {
          "model_module": "@jupyter-widgets/base",
          "model_name": "LayoutModel",
          "state": {
            "_model_module": "@jupyter-widgets/base",
            "_model_module_version": "1.2.0",
            "_model_name": "LayoutModel",
            "_view_count": null,
            "_view_module": "@jupyter-widgets/base",
            "_view_module_version": "1.2.0",
            "_view_name": "LayoutView",
            "align_content": null,
            "align_items": null,
            "align_self": null,
            "border": null,
            "bottom": null,
            "display": null,
            "flex": null,
            "flex_flow": null,
            "grid_area": null,
            "grid_auto_columns": null,
            "grid_auto_flow": null,
            "grid_auto_rows": null,
            "grid_column": null,
            "grid_gap": null,
            "grid_row": null,
            "grid_template_areas": null,
            "grid_template_columns": null,
            "grid_template_rows": null,
            "height": null,
            "justify_content": null,
            "justify_items": null,
            "left": null,
            "margin": null,
            "max_height": null,
            "max_width": null,
            "min_height": null,
            "min_width": null,
            "object_fit": null,
            "object_position": null,
            "order": null,
            "overflow": null,
            "overflow_x": null,
            "overflow_y": null,
            "padding": null,
            "right": null,
            "top": null,
            "visibility": null,
            "width": null
          }
        },
        "6e1591ac7fe942879c242069deddb7f5": {
          "model_module": "@jupyter-widgets/controls",
          "model_name": "ProgressStyleModel",
          "state": {
            "_model_module": "@jupyter-widgets/controls",
            "_model_module_version": "1.5.0",
            "_model_name": "ProgressStyleModel",
            "_view_count": null,
            "_view_module": "@jupyter-widgets/base",
            "_view_module_version": "1.2.0",
            "_view_name": "StyleView",
            "bar_color": null,
            "description_width": "initial"
          }
        },
        "d2f8bfd8b8004526ae119ee085f05ba1": {
          "model_module": "@jupyter-widgets/base",
          "model_name": "LayoutModel",
          "state": {
            "_model_module": "@jupyter-widgets/base",
            "_model_module_version": "1.2.0",
            "_model_name": "LayoutModel",
            "_view_count": null,
            "_view_module": "@jupyter-widgets/base",
            "_view_module_version": "1.2.0",
            "_view_name": "LayoutView",
            "align_content": null,
            "align_items": null,
            "align_self": null,
            "border": null,
            "bottom": null,
            "display": null,
            "flex": null,
            "flex_flow": null,
            "grid_area": null,
            "grid_auto_columns": null,
            "grid_auto_flow": null,
            "grid_auto_rows": null,
            "grid_column": null,
            "grid_gap": null,
            "grid_row": null,
            "grid_template_areas": null,
            "grid_template_columns": null,
            "grid_template_rows": null,
            "height": null,
            "justify_content": null,
            "justify_items": null,
            "left": null,
            "margin": null,
            "max_height": null,
            "max_width": null,
            "min_height": null,
            "min_width": null,
            "object_fit": null,
            "object_position": null,
            "order": null,
            "overflow": null,
            "overflow_x": null,
            "overflow_y": null,
            "padding": null,
            "right": null,
            "top": null,
            "visibility": null,
            "width": null
          }
        },
        "b88182c2f36041fa8c3f5c098338661b": {
          "model_module": "@jupyter-widgets/controls",
          "model_name": "DescriptionStyleModel",
          "state": {
            "_model_module": "@jupyter-widgets/controls",
            "_model_module_version": "1.5.0",
            "_model_name": "DescriptionStyleModel",
            "_view_count": null,
            "_view_module": "@jupyter-widgets/base",
            "_view_module_version": "1.2.0",
            "_view_name": "StyleView",
            "description_width": ""
          }
        }
      }
    }
  },
  "cells": [
    {
      "cell_type": "markdown",
      "metadata": {
        "id": "Vxpsu-Y4qLjl"
      },
      "source": [
        "## Part 1: Image segmentation exploration"
      ]
    },
    {
      "cell_type": "code",
      "metadata": {
        "colab": {
          "base_uri": "https://localhost:8080/"
        },
        "id": "MvmhvgUNqLjq",
        "outputId": "7038d95a-201a-412d-ffc5-cad2131dd016"
      },
      "source": [
        "import sys\n",
        "import os\n",
        "print(sys.prefix)\n",
        "\n",
        "from random import randint\n",
        "import numpy as np\n",
        "import matplotlib.pyplot as plt\n",
        "import copy\n",
        "import torch\n",
        "print(torch.__version__)\n",
        "from torchvision import transforms, datasets, models\n",
        "\n",
        "# !pip install -U 'git+https://github.com/cocodataset/cocoapi.git#subdirectory=PythonAPI'\n",
        "# from pycocotools.coco import COCO"
      ],
      "execution_count": null,
      "outputs": [
        {
          "output_type": "stream",
          "text": [
            "/usr\n",
            "1.7.0+cu101\n"
          ],
          "name": "stdout"
        }
      ]
    },
    {
      "cell_type": "markdown",
      "metadata": {
        "id": "JBR7FxTHLKWR"
      },
      "source": [
        "Clone torchvision segmentation tools "
      ]
    },
    {
      "cell_type": "code",
      "metadata": {
        "colab": {
          "base_uri": "https://localhost:8080/"
        },
        "id": "-7-ziGigLIZi",
        "outputId": "06aad846-9da0-4640-c4db-cd03297bc258"
      },
      "source": [
        "%%shell\n",
        "git clone https://github.com/pytorch/vision.git\n",
        "cd vision\n",
        "cp -r references/segmentation/. ../\n",
        "cd ../\n",
        "ls"
      ],
      "execution_count": null,
      "outputs": [
        {
          "output_type": "stream",
          "text": [
            "Cloning into 'vision'...\n",
            "remote: Enumerating objects: 280, done.\u001b[K\n",
            "remote: Counting objects: 100% (280/280), done.\u001b[K\n",
            "remote: Compressing objects: 100% (166/166), done.\u001b[K\n",
            "remote: Total 14218 (delta 187), reused 170 (delta 110), pack-reused 13938\u001b[K\n",
            "Receiving objects: 100% (14218/14218), 15.76 MiB | 24.41 MiB/s, done.\n",
            "Resolving deltas: 100% (9975/9975), done.\n",
            "coco_utils.py  README.md    train.py\t   utils.py\n",
            "presets.py     sample_data  transforms.py  vision\n"
          ],
          "name": "stdout"
        },
        {
          "output_type": "execute_result",
          "data": {
            "text/plain": [
              ""
            ]
          },
          "metadata": {
            "tags": []
          },
          "execution_count": 2
        }
      ]
    },
    {
      "cell_type": "code",
      "metadata": {
        "colab": {
          "base_uri": "https://localhost:8080/"
        },
        "id": "Ll2EBTkj3ey_",
        "outputId": "08877199-2ce7-4f13-eb97-18914748d164"
      },
      "source": [
        "from google.colab import drive\n",
        "drive.mount('/content/drive')\n",
        "\n",
        "%cp '/content/drive/MyDrive/_mobilenet.py' '/content/'\n"
      ],
      "execution_count": null,
      "outputs": [
        {
          "output_type": "stream",
          "text": [
            "Mounted at /content/drive\n"
          ],
          "name": "stdout"
        }
      ]
    },
    {
      "cell_type": "markdown",
      "metadata": {
        "id": "Iu24ojMHqLjs"
      },
      "source": [
        "### 1. Examine COCO datasets with pycocotools [Section removed in this Ver]"
      ]
    },
    {
      "cell_type": "markdown",
      "metadata": {
        "id": "GzUS-nKOqLju"
      },
      "source": [
        "### 2. inference on pretrained segmentation model, and display masks"
      ]
    },
    {
      "cell_type": "code",
      "metadata": {
        "colab": {
          "base_uri": "https://localhost:8080/",
          "referenced_widgets": [
            "1112e0fab8774061a5285394395fab4f",
            "a5512fe63c1d48088acdf379b1acb6fd",
            "954ef03e3add4202acea560da18b486c",
            "8f7999c9143a4897bbfe607522e7d10b",
            "38422092cf59470f81f771654bd8359a",
            "acbf60c8b08d4b07b8b5675846b06872",
            "29f440e5e1d14233a803062509e265f0",
            "7df98655133449b6a1cf1a4d0eca75d3",
            "81fe3a8eb81845f2a5ace1808721296f",
            "581d987c214c4f0ca9abc7ab74a3270c",
            "e08c9ecab95344e6870cbcfcd8f1081f",
            "7bfdd896f8ba432f988ce0a9e5a6e06c",
            "3b4b5734afc54c78b4c8d39cc14b094a",
            "6e1591ac7fe942879c242069deddb7f5",
            "d2f8bfd8b8004526ae119ee085f05ba1",
            "b88182c2f36041fa8c3f5c098338661b"
          ]
        },
        "id": "iwujOvttXE7O",
        "outputId": "e1aeec30-53bf-4e31-a37e-b5093d573d53"
      },
      "source": [
        "# make display model predictions helper functions\n",
        "def rgb_mask(image, nc=21):\n",
        "    '''\n",
        "    convert 2d image with class labels to RGB image, where each label is mapped to color\n",
        "    :params: image: HxW matrix\n",
        "    :return: rgb: 3xHxW matrix\n",
        "    ''' \n",
        "    label_colors = np.array([(0, 0, 0),  # 0=background\n",
        "               # 1=aeroplane, 2=bicycle, 3=bird, 4=boat, 5=bottle\n",
        "               (128, 0, 0), (0, 128, 0), (128, 128, 0), (0, 0, 128), (128, 0, 128),\n",
        "               # 6=bus, 7=car, 8=cat, 9=chair, 10=cow\n",
        "               (0, 128, 128), (128, 128, 128), (64, 0, 0), (192, 0, 0), (64, 128, 0),\n",
        "               # 11=dining table, 12=dog, 13=horse, 14=motorbike, 15=person\n",
        "               (192, 128, 0), (64, 0, 128), (192, 0, 128), (64, 128, 128), (192, 128, 128),\n",
        "               # 16=potted plant, 17=sheep, 18=sofa, 19=train, 20=tv/monitor\n",
        "               (0, 64, 0), (128, 64, 0), (0, 192, 0), (128, 192, 0), (0, 64, 128)])\n",
        "\n",
        "    r = np.zeros_like(image).astype(np.uint8)\n",
        "    g = np.zeros_like(image).astype(np.uint8)\n",
        "    b = np.zeros_like(image).astype(np.uint8)\n",
        "\n",
        "    for l in range(0, nc):\n",
        "        idx = image == l\n",
        "        r[idx] = label_colors[l, 0]\n",
        "        g[idx] = label_colors[l, 1]\n",
        "        b[idx] = label_colors[l, 2]\n",
        "\n",
        "    rgb = np.stack([r, g, b], axis=2)\n",
        "    return rgb\n",
        "\n",
        "def display_seg_map(preds, dataset, idx):\n",
        "    class_map = torch.argmax(preds.squeeze(), dim=0).detach().cpu().numpy()\n",
        "    #print(class_map.shape)\n",
        "    \n",
        "    # Positive segmentation classes of total 20+1 pascal classes\n",
        "    classes = np.unique(class_map)#.tolist().remove(0)\n",
        "    #  NOTE: catsID remapped during training, cant use loadCats ard\n",
        "    # cats = dataset.coco.loadCats(classes)\n",
        "    rgb = rgb_mask(class_map)    \n",
        "    \n",
        "    # the seg mask is off because model is trained with 21 classes only, while truth has 80 classes\n",
        "    fig, axs = plt.subplots(1,2, figsize=(10,5))\n",
        "    axs[0].imshow(rgb)\n",
        "    \n",
        "    anns = dataset[idx][1]\n",
        "    axs[1].imshow(dataset[idx][0].permute(1,2,0))\n",
        "    dataset.coco.showAnns(anns)\n",
        "    imgId = dataset[idx][1][0]['image_id']\n",
        "    fig.savefig(os.path.join('drive/MyDrive/data/preds', str(imgId)+'_pretrained.jpg'))\n",
        "    plt.show()\n",
        "\n",
        "def inference_display(model, dataset, idx):\n",
        "    img = dataset[idx][0].unsqueeze(0)\n",
        "    if torch.cuda.is_available():  \n",
        "        model.to('cuda')\n",
        "        img = img.to('cuda') # need to assign, not in place\n",
        "    preds = model(img)['out'].to('cpu')\n",
        "    imgId = dataset[idx][1][0]['image_id']\n",
        "    print('Inference done on img id {}, preds matrix size is {}'.format(imgId, preds.size()))    \n",
        "    display_seg_map(preds, dataset, idx)\n",
        "    return imgId\n",
        "    \n",
        "# download pretrained model on pascal 20 + 1 classes\n",
        "fcn50_pretrained = models.segmentation.fcn_resnet50(pretrained=True)\n",
        "\n",
        "path2data = './drive/MyDrive/data/coco/val2017'\n",
        "path2ann = './drive/MyDrive/data/coco/annotations/instances_val2017.json'\n",
        "mean = [0.485, 0.456, 0.406]  \n",
        "std = [0.229, 0.224, 0.225]\n",
        "trans = transforms.Compose([transforms.ToTensor(),transforms.Normalize(mean, std)])\n",
        "COCO = datasets.CocoDetection(path2data, path2ann, transform=trans)\n",
        "coco = COCO.coco"
      ],
      "execution_count": null,
      "outputs": [
        {
          "output_type": "stream",
          "text": [
            "Downloading: \"https://download.pytorch.org/models/resnet50-19c8e357.pth\" to /root/.cache/torch/hub/checkpoints/resnet50-19c8e357.pth\n"
          ],
          "name": "stderr"
        },
        {
          "output_type": "display_data",
          "data": {
            "application/vnd.jupyter.widget-view+json": {
              "model_id": "1112e0fab8774061a5285394395fab4f",
              "version_major": 2,
              "version_minor": 0
            },
            "text/plain": [
              "HBox(children=(FloatProgress(value=0.0, max=102502400.0), HTML(value='')))"
            ]
          },
          "metadata": {
            "tags": []
          }
        },
        {
          "output_type": "stream",
          "text": [
            "\n"
          ],
          "name": "stdout"
        },
        {
          "output_type": "stream",
          "text": [
            "Downloading: \"https://download.pytorch.org/models/fcn_resnet50_coco-1167a1af.pth\" to /root/.cache/torch/hub/checkpoints/fcn_resnet50_coco-1167a1af.pth\n"
          ],
          "name": "stderr"
        },
        {
          "output_type": "display_data",
          "data": {
            "application/vnd.jupyter.widget-view+json": {
              "model_id": "81fe3a8eb81845f2a5ace1808721296f",
              "version_major": 2,
              "version_minor": 0
            },
            "text/plain": [
              "HBox(children=(FloatProgress(value=0.0, max=141567418.0), HTML(value='')))"
            ]
          },
          "metadata": {
            "tags": []
          }
        },
        {
          "output_type": "stream",
          "text": [
            "\n",
            "loading annotations into memory...\n",
            "Done (t=1.95s)\n",
            "creating index...\n",
            "index created!\n"
          ],
          "name": "stdout"
        }
      ]
    },
    {
      "cell_type": "markdown",
      "metadata": {
        "id": "S65AsjrKtDIQ"
      },
      "source": [
        "### 3. Data loader\n"
      ]
    },
    {
      "cell_type": "markdown",
      "metadata": {
        "id": "j120bzwlzZz9"
      },
      "source": [
        "**[debug log] READ DOC and keywords CAREFULLY**\n",
        "1. `RuntimeError: each element in list of batch should be of equal size` due to `T.RandomResizedCrop(224)` larger than some min size       \n",
        "2. `TypeError: __call__() missing 1 required positional argument: 'anno'`\n",
        "- **ROOT cause:** Cocodetection('transforms'=), NOT 'transform'. \n",
        "I was looking at a 0.4 old version of Cocodetection code...so comes all the confusion, debug for two days SUCH a minor reason"
      ]
    },
    {
      "cell_type": "code",
      "metadata": {
        "id": "b9Bv4pZ7qLjy"
      },
      "source": [
        "from train import train_one_epoch, evaluate, criterion, get_transform\n",
        "# import utils\n",
        "import torch.utils.data as data\n",
        "from coco_utils import ConvertCocoPolysToMask, FilterAndRemapCocoCategories\n",
        "from transforms import Compose\n",
        "\n",
        "path2data = './drive/MyDrive/data/coco/val2017'\n",
        "path2ann = './drive/MyDrive/data/coco/annotations/instances_val2017.json'\n",
        "\n",
        "def train_val_loaders(bs, nw, split_idx=4000):\n",
        "    untransformed_data = datasets.CocoDetection(path2data, path2ann)\n",
        "    catIds = untransformed_data.coco.getCatIds()\n",
        "    catIds.insert(0,0)\n",
        "    train_data = datasets.CocoDetection(path2data, path2ann, transforms=Compose([FilterAndRemapCocoCategories(catIds, remap=True), \n",
        "                                                                                ConvertCocoPolysToMask(),\n",
        "                                                                                get_transform(train=True)]))\n",
        "    val_data = datasets.CocoDetection(path2data, path2ann, transforms=Compose([FilterAndRemapCocoCategories(catIds, remap=True), \n",
        "                                                                        ConvertCocoPolysToMask(),\n",
        "                                                                        get_transform(train=False)]))\n",
        "    # split train and test indice\n",
        "    torch.manual_seed(1)\n",
        "    idxs = torch.randperm(len(train_data)).tolist()\n",
        "    train_data = torch.utils.data.Subset(train_data, idxs[:split_idx])\n",
        "    val_data = torch.utils.data.Subset(val_data, idxs[split_idx:])\n",
        "\n",
        "    # following references.sementation.train.main setting\n",
        "    train_loader = torch.utils.data.DataLoader(train_data, batch_size=bs, shuffle=True, num_workers=nw,\\\n",
        "                                            collate_fn=utils.collate_fn, drop_last=True)\n",
        "    val_loader = torch.utils.data.DataLoader(val_data, batch_size=1, shuffle=False, num_workers=nw,\\\n",
        "                                            collate_fn=utils.collate_fn)\n",
        "    print(len(train_data))\n",
        "    print(len(val_data))\n",
        "    print(len(train_loader))\n",
        "    print(len(val_loader))\n",
        "    return train_loader, val_loader\n"
      ],
      "execution_count": null,
      "outputs": []
    },
    {
      "cell_type": "markdown",
      "metadata": {
        "id": "KRPDhnNgqLjx"
      },
      "source": [
        "### 4. Model reconstruction for 81 classes\n",
        "- finetune(cause error...), `# fcn50_copy.classifier[-1].out_channels = num_classes`\n",
        "- make a instance of untrained model\n",
        "- pretrained + new classifier\n",
        "- [give up] mobilenet for seg, need design encoder, NVM\n",
        "(https://colab.research.google.com/drive/1987W27eHV-SwJwlqe9a6BlEVr8QmCjWN#scrollTo=RoAEkUgn4uEq)"
      ]
    },
    {
      "cell_type": "code",
      "metadata": {
        "id": "dGcuvrzCqLjx"
      },
      "source": [
        "from torchvision.models.segmentation.fcn import FCNHead, FCN\n",
        "from _mobilenet import fcn_mobilenetv2\n",
        "\n",
        "num_classes = 81\n",
        "# NEW untrained model perform BAD\n",
        "# fcn50_untrained = models.segmentation.fcn_resnet50(num_classes=num_classes, pretrained=False)\n",
        "\n",
        "# IF pretrained=True, aux_loss=True\n",
        "# Note: model of same instance considered EQUAL: answer is NO\n",
        "\n",
        "def make_fcn50_model(num_classes=81):\n",
        "    fcn50_finetune = models.segmentation.fcn_resnet50(pretrained=True)\n",
        "    fcn50_finetune.classifier = FCNHead(2048, num_classes)\n",
        "    fcn50_finetune.aux_classifier = FCNHead(1024, num_classes)\n",
        "    return fcn50_finetune"
      ],
      "execution_count": null,
      "outputs": []
    },
    {
      "cell_type": "markdown",
      "metadata": {
        "id": "_xDgQSyG6dYu"
      },
      "source": [
        "### 5. Train one epoch DEBUG[FIXED]\n",
        "1. `CUDA error: device-side assert triggered`\n",
        "- 0.5hr + made modifications not working\n",
        "- [right direction!] disable GPU runtime, error very clear... nll still think 21 classes?\n",
        "- **Solution**: directly change model classifier num_classes somehow is wrong (but i check source code no clue why wrong), recreate instance is normal.\n",
        "\n",
        "**evaluate() function stuck**\n",
        "- too slow (30mins) and return value no printed by default..."
      ]
    },
    {
      "cell_type": "code",
      "metadata": {
        "id": "HiKRSHIdqLjy"
      },
      "source": [
        "# train one epoch\n",
        "import datetime\n",
        "device = torch.device('cuda') if torch.cuda.is_available() else torch.device('cpu')\n",
        "\n",
        "def train(model, epoches, model_name='model', lr=0.01, bs=4, nw=4, start_ep=0,\n",
        "          aux_lr_param = 10, scheduler = 'lambda',\n",
        "          device=device, dir='drive/MyDrive/data'):\n",
        "    \n",
        "    train_loader, test_loader = train_val_loaders(bs, nw)\n",
        "    model.to(device)\n",
        "    if aux_lr_param > 1:\n",
        "        params_to_optimize = [\n",
        "        {\"params\": [p for p in model.backbone.parameters() if p.requires_grad]},\n",
        "        {\"params\": [p for p in model.classifier.parameters() if p.requires_grad]}]\n",
        "        if model.aux_classifier:\n",
        "            params = [p for p in model.aux_classifier.parameters() if p.requires_grad]\n",
        "            params_to_optimize.append({\"params\": params, \"lr\": lr * aux_lr_param}) #multiplier default is 10\n",
        "    else:\n",
        "        params_to_optimize = [p for p in model.parameters() if p.requires_grad]\n",
        "\n",
        "    optimizer = torch.optim.SGD(params_to_optimize,\n",
        "                                    lr=lr, momentum=0.9, weight_decay=0.0001)        \n",
        "    scheduler_dict = {\n",
        "        'step': torch.optim.lr_scheduler.StepLR(optimizer, step_size=3, gamma=0.1),\n",
        "        'lambda':torch.optim.lr_scheduler.LambdaLR(optimizer, lambda x: (1 - x / (len(train_loader)*epoches)) ** 0.9)\n",
        "    }\n",
        "    lr_scheduler = scheduler_dict[scheduler]\n",
        "    if start_ep:\n",
        "        checkpoint = torch.load(\n",
        "            os.path.join( dir, '{}_auxlr{}_{}_ep{}.pth'.format(model_name, aux_lr_param, scheduler, start_ep-1)),\n",
        "            map_location=device)\n",
        "        model.load_state_dict(checkpoint['model'])\n",
        "        optimizer.load_state_dict(checkpoint['optimizer'])\n",
        "        lr_scheduler.load_state_dict(checkpoint['lr_scheduler'])\n",
        "    \n",
        "\n",
        "    for epoch in range(start_ep, epoches):\n",
        "        train_one_epoch(model, criterion, optimizer, train_loader, lr_scheduler, device, epoch, print_freq=500)\n",
        "        lr_scheduler.step()\n",
        "        torch.save(\n",
        "                {\n",
        "                    'model': model.state_dict(),\n",
        "                    'optimizer': optimizer.state_dict(),\n",
        "                    'lr_scheduler': lr_scheduler.state_dict(),\n",
        "                    'epoch': epoch,\n",
        "                    'model_name': model_name\n",
        "                },\n",
        "                os.path.join(dir, '{}_auxlr{}_{}_ep{}.pth'.format(model_name, aux_lr_param, scheduler, epoch))) # remember to update experiment no\n",
        "    # STUCK on eval function...\n",
        "    print('start evaluating at', datetime.datetime.now())\n",
        "    evaluate(model, test_loader, device, num_classes=81)\n",
        "\n"
      ],
      "execution_count": null,
      "outputs": []
    },
    {
      "cell_type": "markdown",
      "metadata": {
        "id": "MoPEDZSdhoe_"
      },
      "source": [
        "####train models\n",
        "- default setting: all parameters and stepLR\n",
        "- following training setting as official, large lr for aux_loss and lambdaLR"
      ]
    },
    {
      "cell_type": "code",
      "metadata": {
        "id": "J9dVk2004f-H",
        "colab": {
          "base_uri": "https://localhost:8080/",
          "height": 1000
        },
        "outputId": "145e6222-7c39-4ede-b51e-e13844460ec1"
      },
      "source": [
        "import _mobilenet\n",
        "\n",
        "# fcn50_finetune = make_fcn50_model()\n",
        "fcn_mobilev2 = _mobilenet.fcn_mobilenetv2()\n",
        "# deep_mobilev2 = _mobilenet.deeplabv3_mobilenetv2() # can not name variable same as function \n",
        "train(fcn_mobilev2, 30, aux_lr_param=2, scheduler='lambda', model_name='fcn_mobilenetv2', start_ep=9)"
      ],
      "execution_count": null,
      "outputs": [
        {
          "output_type": "stream",
          "text": [
            "loading annotations into memory...\n",
            "Done (t=0.37s)\n",
            "creating index...\n",
            "index created!\n",
            "loading annotations into memory...\n",
            "Done (t=0.81s)\n",
            "creating index...\n",
            "index created!\n",
            "loading annotations into memory...\n",
            "Done (t=0.39s)\n",
            "creating index...\n",
            "index created!\n",
            "4000\n",
            "1000\n",
            "1000\n",
            "1000\n"
          ],
          "name": "stdout"
        },
        {
          "output_type": "stream",
          "text": [
            "/usr/local/lib/python3.6/dist-packages/torch/optim/lr_scheduler.py:234: UserWarning: Please also save or load the state of the optimizer when saving or loading the scheduler.\n",
            "  warnings.warn(SAVE_STATE_WARNING, UserWarning)\n"
          ],
          "name": "stderr"
        },
        {
          "output_type": "stream",
          "text": [
            "Epoch: [9]  [   0/1000]  eta: 0:26:02  lr: 0.007251069461707311  loss: 0.9430 (0.9430)  time: 1.5626  data: 0.9597  max mem: 4955\n",
            "Epoch: [9]  [ 500/1000]  eta: 0:03:52  lr: 0.00709542858579363  loss: 2.1747 (1.7789)  time: 0.4618  data: 0.0034  max mem: 4955\n",
            "Epoch: [9] Total time: 0:07:43\n"
          ],
          "name": "stdout"
        },
        {
          "output_type": "stream",
          "text": [
            "/usr/local/lib/python3.6/dist-packages/torch/optim/lr_scheduler.py:216: UserWarning: Please also save or load the state of the optimizer when saving or loading the scheduler.\n",
            "  warnings.warn(SAVE_STATE_WARNING, UserWarning)\n"
          ],
          "name": "stderr"
        },
        {
          "output_type": "stream",
          "text": [
            "Epoch: [10]  [   0/1000]  eta: 0:22:12  lr: 0.00693909497893662  loss: 2.0425 (2.0425)  time: 1.3330  data: 0.8283  max mem: 4955\n",
            "Epoch: [10]  [ 500/1000]  eta: 0:03:52  lr: 0.006782682230609237  loss: 1.6739 (1.7213)  time: 0.4623  data: 0.0034  max mem: 4955\n",
            "Epoch: [10] Total time: 0:07:43\n",
            "Epoch: [11]  [   0/1000]  eta: 0:21:52  lr: 0.006625553596508102  loss: 2.0658 (2.0658)  time: 1.3122  data: 0.7926  max mem: 4955\n",
            "Epoch: [11]  [ 500/1000]  eta: 0:03:52  lr: 0.0064683246594349235  loss: 1.2987 (1.7180)  time: 0.4625  data: 0.0034  max mem: 4955\n",
            "Epoch: [11] Total time: 0:07:43\n",
            "Epoch: [12]  [   0/1000]  eta: 0:24:27  lr: 0.00631035412850123  loss: 0.9437 (0.9437)  time: 1.4674  data: 0.9563  max mem: 4955\n",
            "Epoch: [12]  [ 500/1000]  eta: 0:03:52  lr: 0.006152259559912686  loss: 1.6903 (1.6437)  time: 0.4621  data: 0.0035  max mem: 4955\n",
            "Epoch: [12] Total time: 0:07:43\n",
            "Epoch: [13]  [   0/1000]  eta: 0:23:44  lr: 0.005993394687069735  loss: 1.6734 (1.6734)  time: 1.4241  data: 0.9128  max mem: 4955\n",
            "Epoch: [13]  [ 500/1000]  eta: 0:03:51  lr: 0.005834378991017764  loss: 1.1542 (1.6177)  time: 0.4618  data: 0.0033  max mem: 4955\n",
            "Epoch: [13] Total time: 0:07:43\n",
            "Epoch: [14]  [   0/1000]  eta: 0:21:40  lr: 0.005674560717472985  loss: 0.8864 (0.8864)  time: 1.3006  data: 0.7802  max mem: 4955\n",
            "Epoch: [14]  [ 500/1000]  eta: 0:03:52  lr: 0.005514561182706046  loss: 1.2057 (1.5641)  time: 0.4622  data: 0.0034  max mem: 4955\n",
            "Epoch: [14] Total time: 0:07:43\n",
            "Epoch: [15]  [   0/1000]  eta: 0:26:52  lr: 0.005353722525579914  loss: 0.9766 (0.9766)  time: 1.6123  data: 1.0975  max mem: 4955\n",
            "Epoch: [15]  [ 500/1000]  eta: 0:03:52  lr: 0.005192667748722521  loss: 1.2815 (1.5175)  time: 0.4622  data: 0.0036  max mem: 4955\n",
            "Epoch: [15] Total time: 0:07:43\n",
            "Epoch: [16]  [   0/1000]  eta: 0:19:58  lr: 0.005030732123697336  loss: 2.0603 (2.0603)  time: 1.1982  data: 0.7035  max mem: 4955\n",
            "Epoch: [16]  [ 500/1000]  eta: 0:03:52  lr: 0.004868540104181622  loss: 1.4220 (1.5435)  time: 0.4625  data: 0.0034  max mem: 4955\n",
            "Epoch: [16] Total time: 0:07:43\n",
            "Epoch: [17]  [   0/1000]  eta: 0:22:05  lr: 0.004705419143883902  loss: 1.1645 (1.1645)  time: 1.3254  data: 0.8109  max mem: 4955\n",
            "Epoch: [17]  [ 500/1000]  eta: 0:03:52  lr: 0.004541994784312686  loss: 1.2015 (1.4884)  time: 0.4622  data: 0.0033  max mem: 4955\n",
            "Epoch: [17] Total time: 0:07:43\n",
            "Epoch: [18]  [   0/1000]  eta: 0:26:28  lr: 0.00437758544881197  loss: 1.3962 (1.3962)  time: 1.5886  data: 1.0921  max mem: 4955\n",
            "Epoch: [18]  [ 500/1000]  eta: 0:03:52  lr: 0.004212817210750054  loss: 1.1981 (1.4200)  time: 0.4623  data: 0.0034  max mem: 4955\n",
            "Epoch: [18] Total time: 0:07:43\n",
            "Epoch: [19]  [   0/1000]  eta: 0:23:27  lr: 0.004046997879686698  loss: 1.6756 (1.6756)  time: 1.4071  data: 0.8978  max mem: 4955\n",
            "Epoch: [19]  [ 500/1000]  eta: 0:03:52  lr: 0.00388075320774117  loss: 1.2313 (1.4303)  time: 0.4621  data: 0.0034  max mem: 4955\n",
            "Epoch: [19] Total time: 0:07:43\n",
            "Epoch: [20]  [   0/1000]  eta: 0:22:42  lr: 0.0037133782652319907  loss: 0.5799 (0.5799)  time: 1.3627  data: 0.8582  max mem: 4955\n",
            "Epoch: [20]  [ 500/1000]  eta: 0:03:52  lr: 0.0035454971588501877  loss: 1.4179 (1.4159)  time: 0.4633  data: 0.0035  max mem: 4955\n",
            "Epoch: [20] Total time: 0:07:43\n",
            "Epoch: [21]  [   0/1000]  eta: 0:16:29  lr: 0.003376389272162565  loss: 2.4238 (2.4238)  time: 0.9895  data: 0.4705  max mem: 4955\n",
            "Epoch: [21]  [ 500/1000]  eta: 0:03:50  lr: 0.003206674969141458  loss: 0.9807 (1.3598)  time: 0.4596  data: 0.0035  max mem: 4955\n",
            "Epoch: [21] Total time: 0:07:40\n",
            "Epoch: [22]  [   0/1000]  eta: 0:23:11  lr: 0.003035613696010234  loss: 1.3467 (1.3467)  time: 1.3913  data: 0.9109  max mem: 4955\n",
            "Epoch: [22]  [ 500/1000]  eta: 0:03:50  lr: 0.002863818652151481  loss: 1.1262 (1.3617)  time: 0.4583  data: 0.0033  max mem: 4955\n",
            "Epoch: [22] Total time: 0:07:39\n",
            "Epoch: [23]  [   0/1000]  eta: 0:24:34  lr: 0.0026905229164226802  loss: 3.7356 (3.7356)  time: 1.4743  data: 0.9636  max mem: 4955\n",
            "Epoch: [23]  [ 500/1000]  eta: 0:03:50  lr: 0.0025163267059304666  loss: 1.0952 (1.3515)  time: 0.4590  data: 0.0034  max mem: 4955\n",
            "Epoch: [23] Total time: 0:07:39\n",
            "Epoch: [24]  [   0/1000]  eta: 0:23:31  lr: 0.002340426405950635  loss: 1.0712 (1.0712)  time: 1.4114  data: 0.8896  max mem: 4955\n",
            "Epoch: [24]  [ 500/1000]  eta: 0:03:50  lr: 0.002163398787233697  loss: 0.9654 (1.3088)  time: 0.4587  data: 0.0034  max mem: 4955\n",
            "Epoch: [24] Total time: 0:07:39\n",
            "Epoch: [25]  [   0/1000]  eta: 0:17:44  lr: 0.001984385630806121  loss: 2.8411 (2.8411)  time: 1.0648  data: 0.5519  max mem: 4955\n",
            "Epoch: [25]  [ 500/1000]  eta: 0:03:50  lr: 0.0018039199125101182  loss: 0.9882 (1.2329)  time: 0.4587  data: 0.0034  max mem: 4955\n",
            "Epoch: [25] Total time: 0:07:39\n",
            "Epoch: [26]  [   0/1000]  eta: 0:20:10  lr: 0.001621054362595365  loss: 1.2618 (1.2618)  time: 1.2106  data: 0.7016  max mem: 4955\n",
            "Epoch: [26]  [ 500/1000]  eta: 0:03:50  lr: 0.001436233907918614  loss: 0.9904 (1.2051)  time: 0.4587  data: 0.0035  max mem: 4955\n",
            "Epoch: [26] Total time: 0:07:39\n",
            "Epoch: [27]  [   0/1000]  eta: 0:26:42  lr: 0.001248345486375621  loss: 1.8673 (1.8673)  time: 1.6021  data: 1.0831  max mem: 4955\n",
            "Epoch: [27]  [ 500/1000]  eta: 0:03:50  lr: 0.0010576317760891537  loss: 1.0213 (1.1692)  time: 0.4592  data: 0.0034  max mem: 4955\n",
            "Epoch: [27] Total time: 0:07:40\n",
            "Epoch: [28]  [   0/1000]  eta: 0:22:22  lr: 0.0008625987661551157  loss: 0.9133 (0.9133)  time: 1.3430  data: 0.8571  max mem: 4955\n",
            "Epoch: [28]  [ 500/1000]  eta: 0:03:50  lr: 0.0006628912343259345  loss: 1.1398 (1.1506)  time: 0.4591  data: 0.0035  max mem: 4955\n",
            "Epoch: [28] Total time: 0:07:40\n",
            "Epoch: [29]  [   0/1000]  eta: 0:24:13  lr: 0.0004557067186507064  loss: 0.8654 (0.8654)  time: 1.4532  data: 0.9388  max mem: 4955\n",
            "Epoch: [29]  [ 500/1000]  eta: 0:03:50  lr: 0.00023739903151786157  loss: 0.8391 (1.1345)  time: 0.4588  data: 0.0035  max mem: 4955\n"
          ],
          "name": "stdout"
        },
        {
          "output_type": "error",
          "ename": "AssertionError",
          "evalue": "ignored",
          "traceback": [
            "\u001b[0;31m---------------------------------------------------------------------------\u001b[0m",
            "\u001b[0;31mAssertionError\u001b[0m                            Traceback (most recent call last)",
            "\u001b[0;32m<ipython-input-30-06abd7cd2cb8>\u001b[0m in \u001b[0;36m<module>\u001b[0;34m()\u001b[0m\n\u001b[1;32m      4\u001b[0m \u001b[0mfcn_mobilev2\u001b[0m \u001b[0;34m=\u001b[0m \u001b[0m_mobilenet\u001b[0m\u001b[0;34m.\u001b[0m\u001b[0mfcn_mobilenetv2\u001b[0m\u001b[0;34m(\u001b[0m\u001b[0;34m)\u001b[0m\u001b[0;34m\u001b[0m\u001b[0;34m\u001b[0m\u001b[0m\n\u001b[1;32m      5\u001b[0m \u001b[0;31m# deep_mobilev2 = _mobilenet.deeplabv3_mobilenetv2() # can not name variable same as function\u001b[0m\u001b[0;34m\u001b[0m\u001b[0;34m\u001b[0m\u001b[0;34m\u001b[0m\u001b[0m\n\u001b[0;32m----> 6\u001b[0;31m \u001b[0mtrain\u001b[0m\u001b[0;34m(\u001b[0m\u001b[0mfcn_mobilev2\u001b[0m\u001b[0;34m,\u001b[0m \u001b[0;36m30\u001b[0m\u001b[0;34m,\u001b[0m \u001b[0maux_lr_param\u001b[0m\u001b[0;34m=\u001b[0m\u001b[0;36m2\u001b[0m\u001b[0;34m,\u001b[0m \u001b[0mscheduler\u001b[0m\u001b[0;34m=\u001b[0m\u001b[0;34m'lambda'\u001b[0m\u001b[0;34m,\u001b[0m \u001b[0mmodel_name\u001b[0m\u001b[0;34m=\u001b[0m\u001b[0;34m'fcn_mobilenetv2'\u001b[0m\u001b[0;34m,\u001b[0m \u001b[0mstart_ep\u001b[0m\u001b[0;34m=\u001b[0m\u001b[0;36m9\u001b[0m\u001b[0;34m)\u001b[0m\u001b[0;34m\u001b[0m\u001b[0;34m\u001b[0m\u001b[0m\n\u001b[0m",
            "\u001b[0;32m<ipython-input-7-56f42810e2f1>\u001b[0m in \u001b[0;36mtrain\u001b[0;34m(model, epoches, model_name, lr, bs, nw, start_ep, aux_lr_param, scheduler, device, dir)\u001b[0m\n\u001b[1;32m     36\u001b[0m \u001b[0;34m\u001b[0m\u001b[0m\n\u001b[1;32m     37\u001b[0m     \u001b[0;32mfor\u001b[0m \u001b[0mepoch\u001b[0m \u001b[0;32min\u001b[0m \u001b[0mrange\u001b[0m\u001b[0;34m(\u001b[0m\u001b[0mstart_ep\u001b[0m\u001b[0;34m,\u001b[0m \u001b[0mepoches\u001b[0m\u001b[0;34m)\u001b[0m\u001b[0;34m:\u001b[0m\u001b[0;34m\u001b[0m\u001b[0;34m\u001b[0m\u001b[0m\n\u001b[0;32m---> 38\u001b[0;31m         \u001b[0mtrain_one_epoch\u001b[0m\u001b[0;34m(\u001b[0m\u001b[0mmodel\u001b[0m\u001b[0;34m,\u001b[0m \u001b[0mcriterion\u001b[0m\u001b[0;34m,\u001b[0m \u001b[0moptimizer\u001b[0m\u001b[0;34m,\u001b[0m \u001b[0mtrain_loader\u001b[0m\u001b[0;34m,\u001b[0m \u001b[0mlr_scheduler\u001b[0m\u001b[0;34m,\u001b[0m \u001b[0mdevice\u001b[0m\u001b[0;34m,\u001b[0m \u001b[0mepoch\u001b[0m\u001b[0;34m,\u001b[0m \u001b[0mprint_freq\u001b[0m\u001b[0;34m=\u001b[0m\u001b[0;36m500\u001b[0m\u001b[0;34m)\u001b[0m\u001b[0;34m\u001b[0m\u001b[0;34m\u001b[0m\u001b[0m\n\u001b[0m\u001b[1;32m     39\u001b[0m         \u001b[0mlr_scheduler\u001b[0m\u001b[0;34m.\u001b[0m\u001b[0mstep\u001b[0m\u001b[0;34m(\u001b[0m\u001b[0;34m)\u001b[0m\u001b[0;34m\u001b[0m\u001b[0;34m\u001b[0m\u001b[0m\n\u001b[1;32m     40\u001b[0m         utils.save_on_master(\n",
            "\u001b[0;32m/content/train.py\u001b[0m in \u001b[0;36mtrain_one_epoch\u001b[0;34m(model, criterion, optimizer, data_loader, lr_scheduler, device, epoch, print_freq)\u001b[0m\n\u001b[1;32m     79\u001b[0m         \u001b[0mlr_scheduler\u001b[0m\u001b[0;34m.\u001b[0m\u001b[0mstep\u001b[0m\u001b[0;34m(\u001b[0m\u001b[0;34m)\u001b[0m\u001b[0;34m\u001b[0m\u001b[0;34m\u001b[0m\u001b[0m\n\u001b[1;32m     80\u001b[0m \u001b[0;34m\u001b[0m\u001b[0m\n\u001b[0;32m---> 81\u001b[0;31m         \u001b[0mmetric_logger\u001b[0m\u001b[0;34m.\u001b[0m\u001b[0mupdate\u001b[0m\u001b[0;34m(\u001b[0m\u001b[0mloss\u001b[0m\u001b[0;34m=\u001b[0m\u001b[0mloss\u001b[0m\u001b[0;34m.\u001b[0m\u001b[0mitem\u001b[0m\u001b[0;34m(\u001b[0m\u001b[0;34m)\u001b[0m\u001b[0;34m,\u001b[0m \u001b[0mlr\u001b[0m\u001b[0;34m=\u001b[0m\u001b[0moptimizer\u001b[0m\u001b[0;34m.\u001b[0m\u001b[0mparam_groups\u001b[0m\u001b[0;34m[\u001b[0m\u001b[0;36m0\u001b[0m\u001b[0;34m]\u001b[0m\u001b[0;34m[\u001b[0m\u001b[0;34m\"lr\"\u001b[0m\u001b[0;34m]\u001b[0m\u001b[0;34m)\u001b[0m\u001b[0;34m\u001b[0m\u001b[0;34m\u001b[0m\u001b[0m\n\u001b[0m\u001b[1;32m     82\u001b[0m \u001b[0;34m\u001b[0m\u001b[0m\n\u001b[1;32m     83\u001b[0m \u001b[0;34m\u001b[0m\u001b[0m\n",
            "\u001b[0;32m/content/utils.py\u001b[0m in \u001b[0;36mupdate\u001b[0;34m(self, **kwargs)\u001b[0m\n\u001b[1;32m    125\u001b[0m             \u001b[0;32mif\u001b[0m \u001b[0misinstance\u001b[0m\u001b[0;34m(\u001b[0m\u001b[0mv\u001b[0m\u001b[0;34m,\u001b[0m \u001b[0mtorch\u001b[0m\u001b[0;34m.\u001b[0m\u001b[0mTensor\u001b[0m\u001b[0;34m)\u001b[0m\u001b[0;34m:\u001b[0m\u001b[0;34m\u001b[0m\u001b[0;34m\u001b[0m\u001b[0m\n\u001b[1;32m    126\u001b[0m                 \u001b[0mv\u001b[0m \u001b[0;34m=\u001b[0m \u001b[0mv\u001b[0m\u001b[0;34m.\u001b[0m\u001b[0mitem\u001b[0m\u001b[0;34m(\u001b[0m\u001b[0;34m)\u001b[0m\u001b[0;34m\u001b[0m\u001b[0;34m\u001b[0m\u001b[0m\n\u001b[0;32m--> 127\u001b[0;31m             \u001b[0;32massert\u001b[0m \u001b[0misinstance\u001b[0m\u001b[0;34m(\u001b[0m\u001b[0mv\u001b[0m\u001b[0;34m,\u001b[0m \u001b[0;34m(\u001b[0m\u001b[0mfloat\u001b[0m\u001b[0;34m,\u001b[0m \u001b[0mint\u001b[0m\u001b[0;34m)\u001b[0m\u001b[0;34m)\u001b[0m\u001b[0;34m\u001b[0m\u001b[0;34m\u001b[0m\u001b[0m\n\u001b[0m\u001b[1;32m    128\u001b[0m             \u001b[0mself\u001b[0m\u001b[0;34m.\u001b[0m\u001b[0mmeters\u001b[0m\u001b[0;34m[\u001b[0m\u001b[0mk\u001b[0m\u001b[0;34m]\u001b[0m\u001b[0;34m.\u001b[0m\u001b[0mupdate\u001b[0m\u001b[0;34m(\u001b[0m\u001b[0mv\u001b[0m\u001b[0;34m)\u001b[0m\u001b[0;34m\u001b[0m\u001b[0;34m\u001b[0m\u001b[0m\n\u001b[1;32m    129\u001b[0m \u001b[0;34m\u001b[0m\u001b[0m\n",
            "\u001b[0;31mAssertionError\u001b[0m: "
          ]
        }
      ]
    },
    {
      "cell_type": "markdown",
      "metadata": {
        "id": "Jk6VDKCiYslk"
      },
      "source": [
        "#### CHECK model METRIC\n",
        "38mins for 1000 test images regardless of bs and workers"
      ]
    },
    {
      "cell_type": "code",
      "metadata": {
        "id": "Vsx6W1K8YyoW"
      },
      "source": [
        "STOPPER"
      ],
      "execution_count": null,
      "outputs": []
    },
    {
      "cell_type": "code",
      "metadata": {
        "colab": {
          "base_uri": "https://localhost:8080/"
        },
        "id": "_jw978bAtnc0",
        "outputId": "15b72ad7-1571-42b7-ed79-286d22d70a1a"
      },
      "source": [
        "import _mobilenet\n",
        "train_loader, test_loader = train_val_loaders(4, 4) # change bs and worker to see if faster\n",
        "fcn_mobilev2 = _mobilenet.fcn_mobilenetv2().to('cuda')\n",
        "checkpoint = torch.load('drive/MyDrive/data/fcn_mobilenetv2_auxlr2_lambda_ep28.pth')\n",
        "fcn_mobilev2.load_state_dict(checkpoint['model'])\n",
        "confmat = evaluate(fcn_mobilev2, test_loader, 'cuda', num_classes=81)\n",
        "\n",
        "# deep_mobilev2 = _mobilenet.deeplabv3_mobilenetv2().to('cuda')\n",
        "# checkpoint = torch.load('drive/MyDrive/data/deeplabv3_mobilenetv2_auxlr2_lambda_ep7.pth')\n",
        "# deep_mobilev2.load_state_dict(checkpoint['model'])\n",
        "# confmat = evaluate(deep_mobilev2, test_loader, 'cuda', num_classes=81)\n",
        "print(confmat)\n",
        "# change test bs from 4 to 1, to see can improve stuck..."
      ],
      "execution_count": null,
      "outputs": [
        {
          "output_type": "stream",
          "text": [
            "loading annotations into memory...\n",
            "Done (t=0.82s)\n",
            "creating index...\n",
            "index created!\n",
            "loading annotations into memory...\n",
            "Done (t=0.39s)\n",
            "creating index...\n",
            "index created!\n",
            "loading annotations into memory...\n",
            "Done (t=0.86s)\n",
            "creating index...\n",
            "index created!\n",
            "4000\n",
            "1000\n",
            "1000\n",
            "1000\n",
            "Test:  [   0/1000]  eta: 0:07:52    time: 0.4728  data: 0.4345  max mem: 4955\n",
            "Test:  [ 100/1000]  eta: 0:32:27    time: 2.1452  data: 0.0022  max mem: 4955\n",
            "Test:  [ 200/1000]  eta: 0:29:06    time: 2.2839  data: 0.0022  max mem: 4955\n",
            "Test:  [ 300/1000]  eta: 0:25:23    time: 1.9856  data: 0.0023  max mem: 4955\n",
            "Test:  [ 400/1000]  eta: 0:21:56    time: 2.3968  data: 0.0024  max mem: 4955\n",
            "Test:  [ 500/1000]  eta: 0:18:20    time: 1.7556  data: 0.0024  max mem: 4955\n",
            "Test:  [ 600/1000]  eta: 0:14:42    time: 1.9422  data: 0.0023  max mem: 4955\n",
            "Test:  [ 700/1000]  eta: 0:11:01    time: 2.1802  data: 0.0023  max mem: 4955\n",
            "Test:  [ 800/1000]  eta: 0:07:15    time: 1.9452  data: 0.0024  max mem: 4955\n",
            "Test:  [ 900/1000]  eta: 0:03:39    time: 2.6303  data: 0.0023  max mem: 4955\n",
            "Test: Total time: 0:36:25\n",
            "global correct: 81.0\n",
            "average row correct: ['93.4', '78.7', '45.0', '46.2', '72.0', '49.4', '43.0', '48.2', '23.6', '40.4', '16.7', '79.1', '67.9', '27.4', '30.1', '19.1', '61.4', '34.8', '42.9', '44.8', '40.3', '5.8', '44.5', '79.7', '75.1', '0.0', '31.7', '0.0', '0.0', '15.5', '0.0', '0.0', '0.0', '0.0', '7.2', '0.0', '0.0', '3.3', '8.5', '70.2', '16.5', '9.0', '16.9', '0.0', '0.0', '0.0', '20.1', '54.8', '33.3', '25.3', '44.8', '30.2', '3.2', '2.3', '4.2', '4.9', '6.7', '15.4', '17.9', '7.5', '40.3', '46.7', '51.7', '39.3', '64.9', '0.0', '13.1', '43.7', '47.1', '1.6', '27.3', '0.0', '13.5', '43.5', '3.7', '72.9', '13.5', '0.0', '65.2', '0.0', '0.0']\n",
            "IoU: ['81.9', '61.7', '38.1', '30.9', '54.8', '29.2', '39.0', '39.2', '20.4', '30.4', '16.3', '60.1', '59.2', '22.4', '23.6', '17.8', '43.7', '28.6', '29.9', '39.1', '28.6', '5.7', '33.8', '67.7', '59.9', '0.0', '22.1', '0.0', '0.0', '11.5', '0.0', '0.0', '0.0', '0.0', '6.2', '0.0', '0.0', '3.2', '7.3', '38.5', '14.1', '7.7', '11.3', '0.0', '0.0', '0.0', '13.7', '35.0', '21.9', '19.8', '22.4', '26.8', '2.7', '2.1', '4.0', '3.3', '5.8', '10.0', '14.2', '5.7', '23.5', '28.5', '35.4', '29.4', '38.2', '0.0', '13.1', '33.7', '31.5', '1.4', '21.7', '0.0', '11.0', '33.4', '3.1', '55.9', '13.1', '0.0', '50.6', '0.0', '0.0']\n",
            "mean IoU: 20.9\n"
          ],
          "name": "stdout"
        }
      ]
    },
    {
      "cell_type": "markdown",
      "metadata": {
        "id": "KQVQuuXuqLjz"
      },
      "source": [
        "### 6. Evaluate result[ metric seems STUCK] and display masks\n",
        "OPTIONAL/future look better: mask to segmentation annotations, then can use showAnns() to display results\n",
        "-- after i switch to mobilenet, evaluation can run but slower than training. So earlier it s only that big model takes too long to test, it is not stuck! "
      ]
    },
    {
      "cell_type": "markdown",
      "metadata": {
        "id": "D1S1JwbiehpN"
      },
      "source": [
        "#### helper function"
      ]
    },
    {
      "cell_type": "code",
      "metadata": {
        "id": "5lu30WmGV1gw"
      },
      "source": [
        "from PIL import Image\n",
        "from torchvision import transforms\n",
        "import urllib\n",
        "\n",
        "\n",
        "def display_preds(ax, model, imgId, checkpoint=None, gpu=True, dir='drive/MyDrive/data'):\n",
        "    \n",
        "    img_info = coco.loadImgs(imgId)[0]\n",
        "    url, filename = (img_info['coco_url'], img_info['file_name'])\n",
        "    try: urllib.URLopener().retrieve(url, filename)\n",
        "    except: urllib.request.urlretrieve(url, filename)\n",
        "\n",
        "    model.eval()\n",
        "    \n",
        "    if checkpoint:\n",
        "        checkpoint = torch.load(os.path.join(dir, checkpoint))\n",
        "        model.load_state_dict(checkpoint['model'])\n",
        "    # sample execution (requires torchvision)\n",
        "    input_image = Image.open(filename)\n",
        "    preprocess = transforms.Compose([\n",
        "        transforms.ToTensor(),\n",
        "        transforms.Normalize(mean=[0.485, 0.456, 0.406], std=[0.229, 0.224, 0.225]),\n",
        "    ])\n",
        "    input_tensor = preprocess(input_image)\n",
        "    input_batch = input_tensor.unsqueeze(0) # create a mini-batch as expected by the model\n",
        "\n",
        "    # move the input and model to GPU for speed if available\n",
        "    if gpu and torch.cuda.is_available():\n",
        "        input_batch = input_batch.to('cuda')\n",
        "        model.to('cuda')\n",
        "\n",
        "    with torch.no_grad():\n",
        "        output = model(input_batch)['out'][0]\n",
        "    output_predictions = output.argmax(0)\n",
        "\n",
        "    # create a color pallette, selecting a color for each class\n",
        "    palette = torch.tensor([2 ** 25 - 1, 2 ** 15 - 1, 2 ** 31 - 1])\n",
        "    colors = torch.as_tensor([i for i in range(81)])[:, None] * palette\n",
        "    colors = (colors % 255).numpy().astype(\"uint8\")\n",
        "\n",
        "    # plot the semantic segmentation predictions of 21 classes in each color\n",
        "    r = Image.fromarray(output_predictions.byte().cpu().numpy()).resize(input_image.size)\n",
        "    r.putpalette(colors)\n",
        "    ax.imshow(r)"
      ],
      "execution_count": null,
      "outputs": []
    },
    {
      "cell_type": "code",
      "metadata": {
        "id": "qPM6O_uHgUpB",
        "colab": {
          "base_uri": "https://localhost:8080/",
          "height": 523
        },
        "outputId": "73151256-4961-4dde-bb88-e96d72e65195"
      },
      "source": [
        "idx = randint(4000, 5000-1)\n",
        "imgId = 489305\n",
        "imgId = inference_display(fcn50_pretrained, COCO, idx)\n",
        "print(coco.loadImgs(imgId))\n",
        "# pth2 = 'fcn50_finetune_auxlr2_lambda_ep0.pth'\n",
        "# pth4 = 'fcn50_finetune_auxlr2_step_ep0.pth'\n",
        "path1 = 'fcn_mobilenetv2_auxlr2_lambda_ep7.pth'\n",
        "# path2 = 'deeplabv3_mobilenetv2_auxlr2_lambda_ep7.pth'\n",
        "path3 = 'fcn_mobilenetv2_auxlr2_lambda_ep28.pth'\n",
        "\n",
        "fig, axes = plt.subplots(1, 2, figsize=(10, 5))\n",
        "# display_preds(axes[0], fcn50_finetune, imgId, checkpoint=pth2)\n",
        "# display_preds(axes[1], fcn50_finetune, imgId, checkpoint=pth4)\n",
        "display_preds(axes[0], fcn_mobilev2, imgId, checkpoint=path1)\n",
        "display_preds(axes[1], fcn_mobilev2, imgId, checkpoint=path3)\n",
        "\n",
        "plt.show()"
      ],
      "execution_count": null,
      "outputs": [
        {
          "output_type": "stream",
          "text": [
            "Clipping input data to the valid range for imshow with RGB data ([0..1] for floats or [0..255] for integers).\n"
          ],
          "name": "stderr"
        },
        {
          "output_type": "stream",
          "text": [
            "Inference done on img id 468124, preds matrix size is torch.Size([1, 21, 459, 640])\n"
          ],
          "name": "stdout"
        },
        {
          "output_type": "display_data",
          "data": {
            "image/png": "[encoded data removed]",
            "text/plain": [
              "<Figure size 720x360 with 2 Axes>"
            ]
          },
          "metadata": {
            "tags": [],
            "needs_background": "light"
          }
        },
        {
          "output_type": "stream",
          "text": [
            "[{'license': 2, 'file_name': '000000468124.jpg', 'coco_url': 'http://images.cocodataset.org/val2017/000000468124.jpg', 'height': 459, 'width': 640, 'date_captured': '2013-11-16 17:47:12', 'flickr_url': 'http://farm4.staticflickr.com/3452/3951591332_a116028f33_z.jpg', 'id': 468124}]\n"
          ],
          "name": "stdout"
        },
        {
          "output_type": "display_data",
          "data": {
            "image/png": "[encoded data removed]",
            "text/plain": [
              "<Figure size 720x360 with 2 Axes>"
            ]
          },
          "metadata": {
            "tags": [],
            "needs_background": "light"
          }
        }
      ]
    },
    {
      "cell_type": "markdown",
      "metadata": {
        "id": "WD49ZARYc_yt"
      },
      "source": [
        "#### View performance change over epochs"
      ]
    },
    {
      "cell_type": "code",
      "metadata": {
        "id": "u_7mSewEc8uK"
      },
      "source": [
        "def display_preds_by_epoch(model, imgId, epochs, checkpoint, cols=5):\n",
        "    rows = (epochs-1)//cols + 1 # ceil division\n",
        "    fig, axes = plt.subplots(rows, cols, figsize=(18, 5))\n",
        "    base = checkpoint.split('.')[0][:-1]\n",
        "    for i in range(epochs):\n",
        "        checkpoint = base + str(i) +'.pth'\n",
        "        if rows > 1:\n",
        "            display_preds(axes[i//cols][i%cols], model, imgId, checkpoint)\n",
        "        else:  \n",
        "            display_preds(axes[i], model, imgId, checkpoint)\n",
        "    plt.show()\n",
        "    fig.savefig(os.path.join('drive/MyDrive/data/preds/', str(imgId)+'_epochs.jpg'))\n",
        "display_preds_by_epoch(fcn_mobilev3, imgId, 5, mobile_path2)"
      ],
      "execution_count": null,
      "outputs": []
    },
    {
      "cell_type": "markdown",
      "metadata": {
        "id": "wf9VUhXUqLj0"
      },
      "source": [
        "## Part 2: Federated learning (E/Jan)"
      ]
    },
    {
      "cell_type": "markdown",
      "metadata": {
        "id": "PfUUWmxpqLj0"
      },
      "source": [
        "### 1. make non-iid sampler [done]"
      ]
    },
    {
      "cell_type": "markdown",
      "metadata": {
        "id": "gwiXeLfgqLj0"
      },
      "source": [
        "### 2. Add coco data and model to federated model training"
      ]
    },
    {
      "cell_type": "code",
      "metadata": {
        "id": "yUdl7ZkIqLj0"
      },
      "source": [],
      "execution_count": null,
      "outputs": []
    },
    {
      "cell_type": "markdown",
      "metadata": {
        "id": "jzspPdYfqLj0"
      },
      "source": [
        "### 3. after codebase can run, move to pysyft, add differential privacy"
      ]
    },
    {
      "cell_type": "code",
      "metadata": {
        "id": "wizqBiSCqLj1"
      },
      "source": [],
      "execution_count": null,
      "outputs": []
    },
    {
      "cell_type": "markdown",
      "metadata": {
        "id": "hzRuJHd-qLj1"
      },
      "source": [
        "### 4. add argument parses, run experiments, conclude"
      ]
    },
    {
      "cell_type": "code",
      "metadata": {
        "id": "TMiS1f8KqLj1"
      },
      "source": [],
      "execution_count": null,
      "outputs": []
    },
    {
      "cell_type": "markdown",
      "metadata": {
        "id": "kRo0ovruqLj1"
      },
      "source": [
        "## Part 3: Project demo, with streamlit (M/Feb)"
      ]
    },
    {
      "cell_type": "code",
      "metadata": {
        "id": "1dwMVsqMqLj1"
      },
      "source": [],
      "execution_count": null,
      "outputs": []
    },
    {
      "cell_type": "markdown",
      "metadata": {
        "id": "HQqzY5G3qLj1"
      },
      "source": [
        "## Final: Project report (E/Feb)"
      ]
    },
    {
      "cell_type": "code",
      "metadata": {
        "id": "qukZLWDbqLj1"
      },
      "source": [],
      "execution_count": null,
      "outputs": []
    },
    {
      "cell_type": "code",
      "metadata": {
        "id": "IzLDajMg6Z4W"
      },
      "source": [],
      "execution_count": null,
      "outputs": []
    },
    {
      "cell_type": "code",
      "metadata": {
        "id": "7ce18zkdfqNB"
      },
      "source": [],
      "execution_count": null,
      "outputs": []
    },
    {
      "cell_type": "code",
      "metadata": {
        "id": "YD30uavFlb1Z"
      },
      "source": [],
      "execution_count": null,
      "outputs": []
    },
    {
      "cell_type": "code",
      "metadata": {
        "id": "Fhbyfb8oxMKD"
      },
      "source": [],
      "execution_count": null,
      "outputs": []
    },
    {
      "cell_type": "code",
      "metadata": {
        "id": "5fkh42AMQSIB"
      },
      "source": [],
      "execution_count": null,
      "outputs": []
    },
    {
      "cell_type": "code",
      "metadata": {
        "id": "DuFU6GzgVxyg"
      },
      "source": [],
      "execution_count": null,
      "outputs": []
    },
    {
      "cell_type": "code",
      "metadata": {
        "id": "O45ftb3wVzLy"
      },
      "source": [],
      "execution_count": null,
      "outputs": []
    },
    {
      "cell_type": "code",
      "metadata": {
        "id": "IfzAlvHXzW9l"
      },
      "source": [],
      "execution_count": null,
      "outputs": []
    },
    {
      "cell_type": "code",
      "metadata": {
        "id": "OmpHhG21KnvK"
      },
      "source": [],
      "execution_count": null,
      "outputs": []
    }
  ]
}